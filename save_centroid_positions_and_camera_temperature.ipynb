{
 "cells": [
  {
   "cell_type": "markdown",
   "metadata": {},
   "source": [
    "Imports"
   ]
  },
  {
   "cell_type": "code",
   "execution_count": 2,
   "metadata": {},
   "outputs": [
    {
     "name": "stdout",
     "output_type": "stream",
     "text": [
      "ximea version  4.28.00\n"
     ]
    }
   ],
   "source": [
    "#Import ximea (camera software)\n",
    "import sys\n",
    "sys.path.append('C:/XIMEA/API/Python/v3')\n",
    "\n",
    "import ximea\n",
    "print('ximea version ', ximea.__version__)\n",
    "from ximea import xiapi\n",
    "\n",
    "#import useful things\n",
    "import numpy as np\n",
    "import matplotlib\n",
    "import matplotlib.pyplot as plt\n",
    "import os\n",
    "\n",
    "# Import HS classes assuming they reside one directory above\n",
    "hspath = os.path.abspath('..')\n",
    "if hspath not in sys.path:\n",
    "    sys.path.append(hspath)\n",
    "\n",
    "sys.path.append('C:/Users/katel/OneDrive/Documents/Summer Scolarship/')\n",
    "from HS_Image import *\n",
    "from HWS.HS_Centroids import *\n",
    "from HWS.HS_Gradients import *\n",
    "from HWS.HS_WFP import *\n",
    "import HWS.HSM_WFN as HSM_WFN\n",
    "\n",
    "import time\n"
   ]
  },
  {
   "cell_type": "markdown",
   "metadata": {},
   "source": [
    "User Options"
   ]
  },
  {
   "cell_type": "code",
   "execution_count": null,
   "metadata": {},
   "outputs": [],
   "source": [
    "# number of frames to take and average\n",
    "N = 1000\n",
    "\n",
    "# time to warm up before taking data\n",
    "T = 7200 #  2 hours in seconds\n",
    "\n",
    "folder_name = 'centroids_2_hours'\n",
    "file_path = os.getcwd()"
   ]
  },
  {
   "cell_type": "markdown",
   "metadata": {},
   "source": [
    "camera"
   ]
  },
  {
   "cell_type": "code",
   "execution_count": null,
   "metadata": {},
   "outputs": [],
   "source": [
    "cam = xiapi.Camera()\n",
    "cam.open_device()\n",
    "\n",
    "#settings\n",
    "exposure = 3000\n",
    "img_size = 2048\n",
    "cam.set_exposure(exposure)"
   ]
  },
  {
   "cell_type": "markdown",
   "metadata": {},
   "source": [
    "Functions"
   ]
  },
  {
   "cell_type": "code",
   "execution_count": null,
   "metadata": {},
   "outputs": [],
   "source": [
    "def take_and_average_frames(cam, n):\n",
    "    \"\"\"_summary_\n",
    "\n",
    "    Args:\n",
    "        cam (_type_): _xiapi.camera_\n",
    "        N (_int_): _number_of_frames_\n",
    "\n",
    "    Returns:\n",
    "        _np.array_: _average_image_\n",
    "    \"\"\"\n",
    "    \n",
    "    img = xiapi.Image()\n",
    "    temp = np.zeros((img_size, img_size))\n",
    "    for i in range(N):\n",
    "        cam.get_image(img)\n",
    "        temp += img.get_image_data_numpy()\n",
    "\n",
    "    return (temp / N)"
   ]
  },
  {
   "cell_type": "code",
   "execution_count": null,
   "metadata": {},
   "outputs": [],
   "source": [
    "def find_cent_position_ref(cam, n, background):\n",
    "    '''find the centroids which will be used as a reference to find all other centroids'''\n",
    "    #start data acquisition\n",
    "    cam.start_acquisition()\n",
    "    #take and average images\n",
    "    reference_image = take_and_average_frames(cam, n)\n",
    "    #stop data acquisition\n",
    "    cam.stop_acquisition()\n",
    "    # find reference centroids\n",
    "    hsi_ref = HS_Image()\n",
    "    hsi_ref.background = background\n",
    "    hsi_ref.original_image = reference_image\n",
    "    hsi_ref.original_image.shape = (2048, 2048)\n",
    "    hsi_ref.process_image()\n",
    "    hsc_ref = HS_Centroids()\n",
    "    hsc_ref.hsimage = hsi_ref\n",
    "    hsc_ref.find_centroids_from_image(to_filter_spots = True, size_threshold = 50)\n",
    "    ref_centroids = hsc_ref.centroids\n",
    "    return ref_centroids"
   ]
  },
  {
   "cell_type": "code",
   "execution_count": null,
   "metadata": {},
   "outputs": [],
   "source": [
    "def record_temperature_of_camera(T):\n",
    "    '''turn on a ximea camera and take but do not save images. Record the temperature of the camera each second'''\n",
    "    img = xiapi.Image()\n",
    "    time_list = np.zeros(T)\n",
    "    temperature_list = np.zeros(T)\n",
    "    cam.start_acquisition()\n",
    "    for i in range(T):\n",
    "        time.sleep(1)\n",
    "        cam.get_image(img)\n",
    "        time_list[i] = time.time()\n",
    "        temperature_list[i] = cam.get_temp()\n",
    "    cam.stop_acquisition()\n",
    "    return time_list, temperature_list"
   ]
  },
  {
   "cell_type": "markdown",
   "metadata": {},
   "source": [
    "background"
   ]
  },
  {
   "cell_type": "code",
   "execution_count": 15,
   "metadata": {},
   "outputs": [
    {
     "name": "stdout",
     "output_type": "stream",
     "text": [
      "background already taken\n"
     ]
    }
   ],
   "source": [
    "#take and average background frames\n",
    "if os.path.exists(os.path.join(file_path, f'background.npy')):\n",
    "    print('background already taken')\n",
    "else:\n",
    "    time.sleep(60)\n",
    "    #cam.stop_acquisition()\n",
    "    cam.start_acquisition()\n",
    "\n",
    "    #take and average images\n",
    "    background = take_and_average_frames(cam, 100)\n",
    "    average_background = np.mean(background)\n",
    "    background[493, 1745] = average_background # get that nonsense pixel gone\n",
    "    background.shape = (img_size, img_size)\n",
    "\n",
    "    cam.stop_acquisition()\n",
    "\n",
    "    np.save(os.path.join(file_path, f'background'), background)"
   ]
  },
  {
   "cell_type": "code",
   "execution_count": 16,
   "metadata": {},
   "outputs": [],
   "source": [
    "background = np.load(os.path.join(file_path, f'background.npy'))\n",
    "background.shape = (2048, 2048)\n",
    "# cam.stop_acquisition()"
   ]
  },
  {
   "cell_type": "code",
   "execution_count": 17,
   "metadata": {},
   "outputs": [],
   "source": [
    "def take_and_save_centroids(cam, N, folder_name=''):\n",
    "    img = xiapi.Image()\n",
    "    for i in range(N):\n",
    "        cam.get_image(img)\n",
    "        image = img.get_image_data_numpy()\n",
    "\n",
    "        hsi_live = HS_Image()\n",
    "        hsi_live.background = background\n",
    "        hsi_live.original_image = image\n",
    "        hsi_live.original_image.shape = (2048, 2048)\n",
    "\n",
    "        hsi_live.process_image()\n",
    "\n",
    "        hsc_live = HS_Centroids()\n",
    "        hsc_live.hsimage = hsi_live\n",
    "        hsc_live.find_centroids(hsc_ref.centroids)\n",
    "        \n",
    "        centroids = hsc_live.centroids\n",
    "\n",
    "        np.save(os.path.join(file_path, os.path.join(folder_name, f'centroids{i}')), centroids)\n"
   ]
  },
  {
   "cell_type": "markdown",
   "metadata": {},
   "source": [
    "# take and save centroids"
   ]
  },
  {
   "cell_type": "code",
   "execution_count": null,
   "metadata": {},
   "outputs": [
    {
     "name": "stdout",
     "output_type": "stream",
     "text": [
      "warm-up complete\n",
      "reference centroids saved\n",
      "live centroids saved\n",
      "seconds ellapsed = 3.5436947345733643\n"
     ]
    }
   ],
   "source": [
    "run = False\n",
    "\n",
    "if run == True:\n",
    "\n",
    "    time_list, temperature_list = record_temperature_of_camera(T)\n",
    "    print('warm-up complete')\n",
    "\n",
    "    pos_ref_cents = find_cent_position_ref(cam, 10, background)\n",
    "\n",
    "    file_path = os.getcwd()\n",
    "    os.makedirs(os.path.join(file_path, folder_name))\n",
    "\n",
    "    #take and save centroids\n",
    "    time_i = time.time()\n",
    "    cam.start_acquisition()\n",
    "    centroids = take_and_save_centroids(cam,N,folder_name)\n",
    "    cam.stop_acquisition()\n",
    "    time_f = time.time()\n",
    "    seconds_ellapsed = time_f - time_i\n",
    "    print('live centroids saved')\n",
    "    print('seconds ellapsed =', seconds_ellapsed)"
   ]
  },
  {
   "cell_type": "code",
   "execution_count": 19,
   "metadata": {},
   "outputs": [],
   "source": [
    "cam.stop_acquisition()\n",
    "cam.close_device()"
   ]
  },
  {
   "cell_type": "code",
   "execution_count": 20,
   "metadata": {},
   "outputs": [
    {
     "name": "stdout",
     "output_type": "stream",
     "text": [
      "(2, 1, 10)\n"
     ]
    }
   ],
   "source": [
    "time_temp_table = np.array([[time_list], [temperature_list]])\n",
    "print(np.shape(time_temp_table))\n",
    "np.save(os.path.join(file_path, os.path.join(folder_name, 'camera_temperature')), time_temp_table)"
   ]
  },
  {
   "cell_type": "code",
   "execution_count": 22,
   "metadata": {},
   "outputs": [
    {
     "data": {
      "image/png": "[encoded data removed]",
      "text/plain": [
       "<Figure size 600x800 with 2 Axes>"
      ]
     },
     "metadata": {},
     "output_type": "display_data"
    }
   ],
   "source": [
    "# load data to plot\n",
    "plot_1 = np.load(os.path.join(file_path, os.path.join(folder_name, 'camera_temperature.npy'))) \n",
    "\n",
    "initial_time_1 = plot_1[0, 0, 0] # time when data recording commenced\n",
    "seconds_1 = plot_1[0, 0, :] - initial_time_1 # rescale x axis so time zero is when data recording began\n",
    "degrees_1 = plot_1[1, 0, :] # the temperature\n",
    "\n",
    "fig, ax1 = plt.subplots(2, 1, layout='constrained', figsize = (6, 8))\n",
    "\n",
    "plt.subplot(2, 1, 1)\n",
    "plt.plot(seconds_1, degrees_1, color = 'firebrick')\n",
    "plt.title('Temperature of HWS after being turned on')\n",
    "plt.xlabel('time (s)')\n",
    "plt.ylabel('temperature (degrees C)')\n",
    "\n",
    "plt.subplot(2, 1, 2)\n",
    "plt.semilogx(seconds_1, degrees_1, color = 'midnightblue')\n",
    "# plt.title('Temperature of HWS after being turned on')\n",
    "plt.xlabel('log(time) (s)')\n",
    "plt.ylabel('temperature (degrees C)')\n",
    "\n",
    "plt.show()\n"
   ]
  }
 ],
 "metadata": {
  "kernelspec": {
   "display_name": "HWS_env_3",
   "language": "python",
   "name": "python3"
  },
  "language_info": {
   "codemirror_mode": {
    "name": "ipython",
    "version": 3
   },
   "file_extension": ".py",
   "mimetype": "text/x-python",
   "name": "python",
   "nbconvert_exporter": "python",
   "pygments_lexer": "ipython3",
   "version": "3.12.11"
  }
 },
 "nbformat": 4,
 "nbformat_minor": 2
}
